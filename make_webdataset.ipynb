{
 "cells": [
  {
   "cell_type": "code",
   "execution_count": 4,
   "metadata": {},
   "outputs": [],
   "source": [
    "\"\"\"\n",
    "code from https://zhuanlan.zhihu.com/p/412772439\n",
    "\"\"\"\n",
    "\n",
    "import os\n",
    "import random\n",
    "import datetime\n",
    "from multiprocessing import Process\n",
    "from torchvision import datasets\n",
    "from torchvision.datasets import ImageNet\n",
    "from torchvision.datasets.folder import ImageFolder\n",
    "from webdataset import TarWriter"
   ]
  },
  {
   "cell_type": "code",
   "execution_count": 3,
   "metadata": {},
   "outputs": [],
   "source": [
    "def make_wds_shards(pattern, num_shards, samples, map_func, **kwargs):\n",
    "    # 计算每个分片的样本数，确保所有样本都被分配\n",
    "    shard_size = len(samples) // num_shards\n",
    "    leftover = len(samples) % num_shards\n",
    "    start_idx = 0\n",
    "\n",
    "    for shard_id in range(num_shards):\n",
    "        # 计算当前分片的结束索引\n",
    "        end_idx = start_idx + shard_size + (1 if shard_id < leftover else 0)\n",
    "        # 获取当前分片的样本子集\n",
    "        shard_samples = samples[start_idx:end_idx]\n",
    "        # 写入分片\n",
    "        write_samples_into_single_shard(\n",
    "            pattern, shard_id, shard_samples, map_func, kwargs\n",
    "        )\n",
    "        # 更新下一个分片的起始索引\n",
    "        start_idx = end_idx\n",
    "\n",
    "\n",
    "def write_samples_into_single_shard(pattern, shard_id, samples, map_func, kwargs):\n",
    "    fname = pattern % shard_id\n",
    "    print(f\"[{datetime.datetime.now()}] start to write samples to shard {fname}\")\n",
    "    stream = TarWriter(fname, **kwargs)\n",
    "    size = 0\n",
    "    for item in samples:\n",
    "        size += stream.write(map_func(item))\n",
    "    stream.close()\n",
    "    print(f\"[{datetime.datetime.now()}] complete to write samples to shard {fname}\")\n",
    "    return size"
   ]
  },
  {
   "cell_type": "code",
   "execution_count": 12,
   "metadata": {},
   "outputs": [
    {
     "name": "stdout",
     "output_type": "stream",
     "text": [
      "[2024-05-18 01:57:01.210416] start to write samples to shard ./000000.tar\n",
      "[2024-05-18 01:57:02.558512] complete to write samples to shard ./000000.tar\n"
     ]
    }
   ],
   "source": [
    "root = \"/home/yzl/data/code/data_preprocess/better_than_4_frames_shards/000000\"\n",
    "output_path = \"./\"\n",
    "img_paths = []\n",
    "\n",
    "for root, dirs, files in os.walk(root):\n",
    "    for file in files:\n",
    "        if file.endswith(\".jpg\"):\n",
    "            img_paths.append(os.path.join(root, file))\n",
    "\n",
    "\n",
    "def map_func(item):\n",
    "    image_path = item\n",
    "    with open(image_path, \"rb\") as stream:\n",
    "        image = stream.read()\n",
    "\n",
    "    sample = {\n",
    "        \"__key__\": os.path.splitext(os.path.basename(image_path))[0],\n",
    "        \"jpg\": image,\n",
    "    }\n",
    "\n",
    "    return sample\n",
    "\n",
    "\n",
    "make_wds_shards(\n",
    "    pattern=output_path + \"%06d.tar\",\n",
    "    num_shards=1,  # 设置分片数量\n",
    "    samples=img_paths,  # 传递已排序的items\n",
    "    map_func=map_func,\n",
    ")"
   ]
  }
 ],
 "metadata": {
  "kernelspec": {
   "display_name": "main",
   "language": "python",
   "name": "python3"
  },
  "language_info": {
   "codemirror_mode": {
    "name": "ipython",
    "version": 3
   },
   "file_extension": ".py",
   "mimetype": "text/x-python",
   "name": "python",
   "nbconvert_exporter": "python",
   "pygments_lexer": "ipython3",
   "version": "3.9.18"
  }
 },
 "nbformat": 4,
 "nbformat_minor": 2
}
